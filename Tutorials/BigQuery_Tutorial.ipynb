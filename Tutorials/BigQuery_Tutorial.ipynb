{
 "cells": [
  {
   "cell_type": "markdown",
   "id": "14c42734-3bf8-4f9b-94b1-dde2343b63af",
   "metadata": {},
   "source": [
    "# BigQuery Tutorial "
   ]
  },
  {
   "cell_type": "markdown",
   "id": "4cd6929b-f7ae-415e-adf8-57a55292158b",
   "metadata": {},
   "source": [
    "## Introduction  \n",
    "Structured Query Language, or **SQL**, is a programming language used with databases. **BigQuery** is a web service that lets you apply SQL to large datasets.  \n",
    "\n",
    "\n"
   ]
  },
  {
   "cell_type": "code",
   "execution_count": null,
   "id": "ecbe0e82-501a-45fe-ba1d-ea0b00c7642c",
   "metadata": {},
   "outputs": [],
   "source": [
    "from google.cloud import bigquery"
   ]
  },
  {
   "cell_type": "markdown",
   "id": "a2c659fb-9ca7-4997-a301-0dc74f09730c",
   "metadata": {},
   "source": [
    "The first step in the workflow is to create `Client` object. "
   ]
  },
  {
   "cell_type": "code",
   "execution_count": null,
   "id": "19ba56cd-b08c-4bd0-accf-72cdc1ee1454",
   "metadata": {},
   "outputs": [],
   "source": [
    "client = bigquery.Client() "
   ]
  },
  {
   "cell_type": "markdown",
   "id": "a46d1324-221d-4ae6-bfdd-03af6bd5e837",
   "metadata": {},
   "source": [
    "In BigQuery, <u>each dataset is contained in a corresponding project.</u>     \n",
    "- Begin by constructing a reference to the dataset with the `dataset()` method.  \n",
    "- Next us the `get_dataset()` method, along with with the reference just constructed, to fetch the dataset.  "
   ]
  },
  {
   "cell_type": "code",
   "execution_count": null,
   "id": "73360a28-2ff1-49ec-9a20-9d8aead73f58",
   "metadata": {},
   "outputs": [],
   "source": [
    "# Construct a reference to the dataset\n",
    "dataset_ref=client.dataset(\"hacker_news\", project=\"bigquery-public-data\")\n",
    "\n",
    "# API request - fetch the dataset\n",
    "dataset=client.get_dataset(dataset_ref)"
   ]
  },
  {
   "cell_type": "markdown",
   "id": "387a5956-5b77-4a47-a94d-43d606383e6a",
   "metadata": {},
   "source": [
    "Every dataset is a collection of tables. A dataset can be thought of as a spreadsheet file containing multiple tables multiple tables, all composed of rows and columns.  \n",
    "  \n",
    "We use `list_tables()` method to list hte tables in the dataset.   "
   ]
  },
  {
   "cell_type": "code",
   "execution_count": null,
   "id": "78c3dab0-6faf-46a8-8706-560f755dd73a",
   "metadata": {},
   "outputs": [],
   "source": [
    "tables = list(client.list_tables(dataset)) #list all the tables in the 'hacker_news' dataset\n",
    "\n",
    "# print names of all tables in the dataset\n",
    "for table in tables:\n",
    "    print(table.table_id)"
   ]
  },
  {
   "cell_type": "code",
   "execution_count": null,
   "id": "26265c00-e275-48ab-9088-b649e2fe6a89",
   "metadata": {},
   "outputs": [],
   "source": [
    "# Construct a reference to the \"full\" table\n",
    "table_ref = dataset_ref.table(\"full\")\n",
    "\n",
    "# API request - fetch the table\n",
    "table = client.get_table(table_ref)"
   ]
  },
  {
   "cell_type": "markdown",
   "id": "5c02dafc-3f44-4faf-ab82-e80cf511781b",
   "metadata": {},
   "source": [
    "## Table Schema  \n",
    "\n",
    "The structure of a table is called its **schema**. We need to understand a table's schema to effectively pull out the data we want.   \n"
   ]
  },
  {
   "cell_type": "code",
   "execution_count": null,
   "id": "748a4483-be69-4303-a9cd-184a32cdb7d0",
   "metadata": {},
   "outputs": [],
   "source": [
    "table.schema "
   ]
  },
  {
   "cell_type": "markdown",
   "id": "e084c2f7-3ae8-4f70-b9f8-9b2478c7162d",
   "metadata": {},
   "source": [
    "Each `SchemaField` tells us about a specific column (which we also refer to as a **field**). In order, the information is:  \n",
    "- the **name** of the column  \n",
    "- the **field type** (or datatype) in the column  \n",
    "- the **mode** of the column ( `'NULLABLE'` means that a column allows NULL values, and is the default)  \n",
    "- a **description** of thet data in that column  \n",
    "The first field has the SchemaField:  \n",
    "`SchemaField('by', 'string', 'NULLABLE', \"The username of the item's author.\", ())`  \n",
    "  \n",
    "This tells us:  \n",
    "- the field (or column) is called `by`,   \n",
    "- the data in the field is strings,  \n",
    "- NULL values are allowed, and  \n",
    "- it contains the usernames corresponding to each item's author.  \n",
    "\n",
    "We can use the `list_rows()` method to check just the first five lines of the `full` table to make sure this is right. (*Sometimes database desciptions are outdated.*) This returns a BigQuery `Rowiterator` object that can quickly converted to a pandas DataFrame with the `to_dataframe()` method.  \n",
    "\n",
    "\n"
   ]
  },
  {
   "cell_type": "code",
   "execution_count": null,
   "id": "d6e67b03-68e5-46be-9c9f-62b97e66cbf4",
   "metadata": {},
   "outputs": [],
   "source": [
    "# Preview the first five lines of the \"full\" table  \n",
    "client.list_rows(table, max_results=5).to_dataframe()  "
   ]
  },
  {
   "cell_type": "markdown",
   "id": "36513d78-672a-4b0f-bb42-438ffa741020",
   "metadata": {},
   "source": [
    "The `list_rows()` method will also let us look at just the information in a specific column. f we want to see the first five entries in the by column, for example, we can do that!"
   ]
  },
  {
   "cell_type": "code",
   "execution_count": null,
   "id": "16f026f4-5e24-4d33-a7e1-933ba03a1460",
   "metadata": {},
   "outputs": [],
   "source": [
    "# Preview the first five entries in the \"by\" column of the \"full\" table  \n",
    "client.list_rows(table, selected_fields=table.schema[:1], max_resuts=5).to_dataframe()"
   ]
  },
  {
   "cell_type": "markdown",
   "id": "7cec1da0-6218-44ad-8555-a5ea106d0f29",
   "metadata": {},
   "source": [
    "## Reference  \n",
    "\n",
    "https://www.kaggle.com/dansbecker/getting-started-with-sql-and-bigquery"
   ]
  },
  {
   "cell_type": "markdown",
   "id": "2e8ad09a-159d-49aa-86a5-c22983bf0044",
   "metadata": {},
   "source": [
    "---"
   ]
  }
 ],
 "metadata": {
  "kernelspec": {
   "display_name": "Python 3",
   "language": "python",
   "name": "python3"
  },
  "language_info": {
   "codemirror_mode": {
    "name": "ipython",
    "version": 3
   },
   "file_extension": ".py",
   "mimetype": "text/x-python",
   "name": "python",
   "nbconvert_exporter": "python",
   "pygments_lexer": "ipython3",
   "version": "3.8.10"
  }
 },
 "nbformat": 4,
 "nbformat_minor": 5
}
