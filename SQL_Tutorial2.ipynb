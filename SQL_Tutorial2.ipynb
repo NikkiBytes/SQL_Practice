{
 "cells": [
  {
   "cell_type": "markdown",
   "id": "115d532f-6f07-47f3-8633-e4ccb5b61f41",
   "metadata": {},
   "source": [
    "# SQL : Group By, Having & Count  \n",
    "  \n"
   ]
  },
  {
   "cell_type": "markdown",
   "id": "c2a5ddee-9c5a-46ff-adf1-9e01d1ed34ee",
   "metadata": {},
   "source": [
    "## COUNT()  \n",
    "  \n",
    "**COUNT()**, returns a count of things. Pass it a the name of a column, it returns the number of entries in that column.  \n",
    "  \n"
   ]
  },
  {
   "cell_type": "code",
   "execution_count": null,
   "id": "f4ef1edc-373a-41f9-ae54-e349ec098318",
   "metadata": {},
   "outputs": [],
   "source": [
    "query = \"\"\"\n",
    "        SELECT COUNT(ID)  \n",
    "        FROM `bigquery-public-data.pet_records.pets`\n",
    "        \"\"\""
   ]
  },
  {
   "cell_type": "markdown",
   "id": "bfe8b7f2-6c94-4de4-becb-3e7e8f86db61",
   "metadata": {},
   "source": [
    "**COUNT()** is an example of an **aggregate function**, which takes many values and returns one.  "
   ]
  },
  {
   "cell_type": "markdown",
   "id": "ebe639b5-2945-4d11-bfd0-3ff86ece8268",
   "metadata": {},
   "source": [
    "## GROUP BY  \n",
    "**GROUP BY** takes the name of one or more columns, and treats all rows with the same value in the column as a single group when you apply aggregate functions like **COUNT()**.  \n",
    "  "
   ]
  },
  {
   "cell_type": "code",
   "execution_count": null,
   "id": "3439c736-0178-4003-a55a-bd344439d81d",
   "metadata": {},
   "outputs": [],
   "source": [
    "query=\"\"\"\n",
    "      SELECT Animal, COUNT(ID)  \n",
    "      FROM `bigquery-public-data.pet_records.pets`  \n",
    "      GROUP BY Animal\n",
    "      \"\"\""
   ]
  },
  {
   "cell_type": "markdown",
   "id": "93118c5b-b7b2-49dc-b515-2eb06d9c5add",
   "metadata": {},
   "source": [
    "It returns a table with three rows (one for each distinct animal). "
   ]
  },
  {
   "cell_type": "markdown",
   "id": "4e7313fc-36a9-441c-b852-f0a997dd3aa1",
   "metadata": {},
   "source": [
    "## GROUP BY ... HAVING  \n",
    "**HAVING** is used in combination with **GROUP BY** to ignore groups that don't meet certain criteria.  \n"
   ]
  },
  {
   "cell_type": "code",
   "execution_count": null,
   "id": "49247121-21fe-43ad-a026-cc714c6f5357",
   "metadata": {},
   "outputs": [],
   "source": [
    "query=\"\"\"\n",
    "      SELECT Animal COUNT(ID)\n",
    "      FROM `bigquery-public-data.pet_records.pets`\n",
    "      GROUP BY Animal  \n",
    "      HAVING COUNT(ID) > 1\n",
    "      \"\"\""
   ]
  },
  {
   "cell_type": "markdown",
   "id": "a660e4bb-f6d8-4d66-a6c1-84fd5b899dbe",
   "metadata": {},
   "source": [
    "## Example: Which Hacker News comments generated the most discussion?  \n",
    "Ready to see an example on a real dataset? The Hacker News dataset contains information on stories and comments from the Hacker News social networking site.  \n",
    "  \n",
    "We'll work with the comments table and begin by printing the first few rows."
   ]
  },
  {
   "cell_type": "code",
   "execution_count": null,
   "id": "6dbbb393-0942-4db4-a604-979f68dc4266",
   "metadata": {},
   "outputs": [],
   "source": [
    "# Query to select comments that received more than 10 replies\n",
    "query_popular = \"\"\"\n",
    "                SELECT parent, COUNT(id)\n",
    "                FROM `bigquery-public-data.hacker_news.comments`\n",
    "                GROUP BY parent\n",
    "                HAVING COUNT(id) > 10\n",
    "                \"\"\""
   ]
  },
  {
   "cell_type": "markdown",
   "id": "4d784bfc-9984-4ed8-afdf-c2708c70536f",
   "metadata": {},
   "source": [
    "Now that our query is ready, let's run it and store the results in a pandas DataFrame:\n"
   ]
  },
  {
   "cell_type": "code",
   "execution_count": null,
   "id": "12e27464-4a5e-460e-ba07-07ee3255edf6",
   "metadata": {},
   "outputs": [],
   "source": [
    "# Set up the query (cancel the query if it would use too much of \n",
    "# your quota, with the limit set to 10 GB)\n",
    "safe_config = bigquery.QueryJobConfig(maximum_bytes_billed=10**10)\n",
    "query_job = client.query(query_popular, job_config=safe_config)\n",
    "\n",
    "# API request - run the query, and convert the results to a pandas DataFrame\n",
    "popular_comments = query_job.to_dataframe()\n",
    "\n",
    "# Print the first five rows of the DataFrame\n",
    "popular_comments.head()"
   ]
  },
  {
   "cell_type": "markdown",
   "id": "25a240c7-fb00-470f-893a-03186cc05c5b",
   "metadata": {},
   "source": [
    "## Aliasing and other improvements  \n",
    "A couple hints to make your queries even better:  \n",
    "* The column resulting from **COUNT(id)** was called f0__. That's not a very descriptive name. You can change the name by adding `AS NumPosts` after you specify the aggregation. This is called **aliasing**, and it will be covered in more detail in an upcoming lesson.  \n",
    "* If you are ever unsure what to put inside the **COUNT()** function, you can do `COUNT(1)` to count the rows in each group. Most people find it especially readable, because we know it's not focusing on other columns. It also scans less data than if supplied column names (making it faster and using less of your data access quota)."
   ]
  },
  {
   "cell_type": "code",
   "execution_count": null,
   "id": "ff606e1d-9c85-495d-81c2-1abff6918fc3",
   "metadata": {},
   "outputs": [],
   "source": [
    "# Improved version of earlier query, now with aliasing & improved readability\n",
    "query_improved = \"\"\"\n",
    "                 SELECT parent, COUNT(1) AS NumPosts\n",
    "                 FROM `bigquery-public-data.hacker_news.comments`\n",
    "                 GROUP BY parent\n",
    "                 HAVING COUNT(1) > 10\n",
    "                 \"\"\"\n",
    "\n",
    "safe_config = bigquery.QueryJobConfig(maximum_bytes_billed=10**10)\n",
    "query_job = client.query(query_improved, job_config=safe_config)\n",
    "\n",
    "# API request - run the query, and convert the results to a pandas DataFrame\n",
    "improved_df = query_job.to_dataframe()\n",
    "\n",
    "# Print the first five rows of the DataFrame\n",
    "improved_df.head()"
   ]
  },
  {
   "cell_type": "markdown",
   "id": "8d6f51b5-1ad2-4001-9ae2-582c277e3eea",
   "metadata": {},
   "source": [
    "## Note on using **GROUP BY**  \n",
    "Note that because it tells SQL how to apply aggregate functions (like **COUNT()**), it doesn't make sense to use **GROUP BY** without an aggregate function. Similarily, if you have any **GROUP BY** clause, then all variables must be passed to either a  \n",
    "1. **GROUP BY** command, or  \n",
    "2. an aggregation function.  \n"
   ]
  },
  {
   "cell_type": "code",
   "execution_count": null,
   "id": "b2670554-d7b7-4a09-af48-a5c0afd97237",
   "metadata": {},
   "outputs": [],
   "source": [
    "query_good = \"\"\"\n",
    "             SELECT parent, COUNT(id)\n",
    "             FROM `bigquery-public-data.hacker_news.comments`\n",
    "             GROUP BY parent\n",
    "             \"\"\""
   ]
  },
  {
   "cell_type": "markdown",
   "id": "e81763cc-0208-415a-ae09-d60cfc0b1e3c",
   "metadata": {},
   "source": [
    "Note that there are two variables: `parent` and `id`.  \n",
    "* `parent` was pass to a **GROUP BY** command (in `GROUP BY parent`), and  \n",
    "* `id` was paased to an aggregate function (in `COUNT(id)`)    \n",
    "\n",
    "And this query won't work, because the `author` column isn't passed to an aggregate function, or a **GROUP BY** clause:  "
   ]
  },
  {
   "cell_type": "code",
   "execution_count": null,
   "id": "9f5cfbad-9920-4bb9-b67a-dc287ef1919e",
   "metadata": {},
   "outputs": [],
   "source": [
    "query_bad = \"\"\"\n",
    "            SELECT author, parent, COUNT(id)\n",
    "            FROM `bigquery-public-data.hacker_news.comments`\n",
    "            GROUP BY parent\n",
    "            \"\"\""
   ]
  },
  {
   "cell_type": "markdown",
   "id": "9afc2acb-ab69-46f0-b438-9eb7d6f89b1d",
   "metadata": {},
   "source": [
    "If make this error, you'll get the error message `SELECT list expression references column (column's name) which is neither grouped nor aggregated at.`"
   ]
  },
  {
   "cell_type": "markdown",
   "id": "c87e2cf2-b39d-434a-9282-59d3e56be8a4",
   "metadata": {},
   "source": [
    "## Coding Example"
   ]
  },
  {
   "cell_type": "code",
   "execution_count": null,
   "id": "824e881a-79cc-4700-b7cf-91d92aa7a57a",
   "metadata": {},
   "outputs": [],
   "source": [
    "from google.cloud import bigquery\n",
    "\n",
    "# Create a \"Client\" object\n",
    "client = bigquery.Client()\n",
    "\n",
    "# Construct a reference to the \"hacker_news\" dataset\n",
    "dataset_ref = client.dataset(\"hacker_news\", project=\"bigquery-public-data\")\n",
    "\n",
    "# API request - fetch the dataset\n",
    "dataset = client.get_dataset(dataset_ref)\n",
    "\n",
    "# Construct a reference to the \"comments\" table\n",
    "table_ref = dataset_ref.table(\"comments\")\n",
    "\n",
    "# API request - fetch the table\n",
    "table = client.get_table(table_ref)\n",
    "\n",
    "# Preview the first five lines of the \"comments\" table\n",
    "client.list_rows(table, max_results=5).to_dataframe()"
   ]
  },
  {
   "cell_type": "markdown",
   "id": "8544580a-93f7-433a-92ba-5e887cb93fc4",
   "metadata": {},
   "source": [
    "### Exercises\n",
    "### 1) Prolific commenters  \n",
    "Hacker News would like to send awards to everyone who has written more than 10,000 posts. Write a query that returns all authors with more than 10,000 posts as well as their post counts. Call the column with post counts `NumPosts`.\n",
    "\n",
    "In case sample query is helpful, here is a query you saw in the tutorial to answer a similar question:\n",
    "\n",
    "        query = \"\"\"\n",
    "                SELECT parent, COUNT(1) AS NumPosts\n",
    "                FROM `bigquery-public-data.hacker_news.comments`\n",
    "                GROUP BY parent\n",
    "                HAVING COUNT(1) > 10\n",
    "                \"\"\""
   ]
  },
  {
   "cell_type": "code",
   "execution_count": null,
   "id": "ffbb6d4f-0017-418f-ba96-7ed080653260",
   "metadata": {},
   "outputs": [],
   "source": [
    "# Query to select prolific commenters and post counts\n",
    "prolific_commenters_query = \"\"\"\n",
    "                            SELECT author, COUNT(1) as NumPosts\n",
    "                            FROM `bigquery-public-data.hacker_news.comments`\n",
    "                            GROUP BY author  \n",
    "                            HAVING COUNT(1) > 10000\n",
    "                            \"\"\" # Your code goes here\n",
    "\n",
    "# Set up the query (cancel the query if it would use too much of \n",
    "# your quota, with the limit set to 1 GB)\n",
    "safe_config = bigquery.QueryJobConfig(maximum_bytes_billed=10**10)\n",
    "query_job = client.query(prolific_commenters_query, job_config=safe_config)\n",
    "\n",
    "# API request - run the query, and return a pandas DataFrame\n",
    "prolific_commenters = query_job.to_dataframe()\n",
    "\n",
    "# View top few rows of results\n",
    "print(prolific_commenters.head())\n",
    "\n",
    "# Check your answer\n",
    "q_1.check()"
   ]
  },
  {
   "cell_type": "markdown",
   "id": "1f68405e-7a47-4da3-81e7-d570061e2221",
   "metadata": {},
   "source": [
    "## 2) Deleted comments\n",
    "How many comments have been deleted? (If a comment was deleted, the deleted column in the comments table will have the value True.)"
   ]
  },
  {
   "cell_type": "code",
   "execution_count": null,
   "id": "30e1bc38-dd10-4a17-b087-54eb34497223",
   "metadata": {},
   "outputs": [],
   "source": [
    "# Write your query here and figure out the answer\n",
    "delete_query= \"\"\"\n",
    "              SELECT COUNT(1) as num_deleted_posts \n",
    "              FROM `bigquery-public-data.hacker_news.comments`\n",
    "              WHERE deleted = True\n",
    "              \"\"\"\n",
    "\n",
    "# Set up the query (cancel the query if it would use too much of \n",
    "# your quota, with the limit set to 1 GB)\n",
    "safe_config = bigquery.QueryJobConfig(maximum_bytes_billed=10**10)\n",
    "query_job = client.query(delete_query, job_config=safe_config)\n",
    "\n",
    "# API request - run the query, and return a pandas DataFrame\n",
    "deleted = query_job.to_dataframe()\n",
    "\n",
    "# View top few rows of results\n",
    "print(deleted.head())\n"
   ]
  },
  {
   "cell_type": "markdown",
   "id": "3aeb19a3-c66b-442c-826d-1296f69e44f1",
   "metadata": {},
   "source": [
    "## Reference  \n",
    "https://www.kaggle.com/dansbecker/group-by-having-count   \n",
    "https://www.kaggle.com/nichollette/exercise-group-by-having-count/edit  \n",
    "  \n",
    "---"
   ]
  }
 ],
 "metadata": {
  "kernelspec": {
   "display_name": "Python 3",
   "language": "python",
   "name": "python3"
  },
  "language_info": {
   "codemirror_mode": {
    "name": "ipython",
    "version": 3
   },
   "file_extension": ".py",
   "mimetype": "text/x-python",
   "name": "python",
   "nbconvert_exporter": "python",
   "pygments_lexer": "ipython3",
   "version": "3.8.10"
  }
 },
 "nbformat": 4,
 "nbformat_minor": 5
}
