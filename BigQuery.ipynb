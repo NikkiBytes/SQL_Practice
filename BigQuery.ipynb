{
 "cells": [
  {
   "cell_type": "markdown",
   "id": "4cd6929b-f7ae-415e-adf8-57a55292158b",
   "metadata": {},
   "source": [
    "## Introduction  \n",
    "Structured Query Language, or **SQL**, is a programming language used with databases. **BigQuery** is a web service that lets you apply SQL to large datasets.  \n",
    "\n",
    "\n"
   ]
  },
  {
   "cell_type": "code",
   "execution_count": null,
   "id": "ecbe0e82-501a-45fe-ba1d-ea0b00c7642c",
   "metadata": {},
   "outputs": [],
   "source": [
    "from google.cloud import bigquery"
   ]
  },
  {
   "cell_type": "markdown",
   "id": "a2c659fb-9ca7-4997-a301-0dc74f09730c",
   "metadata": {},
   "source": [
    "The first step in the workflow is to create `Client` object. "
   ]
  },
  {
   "cell_type": "code",
   "execution_count": null,
   "id": "19ba56cd-b08c-4bd0-accf-72cdc1ee1454",
   "metadata": {},
   "outputs": [],
   "source": [
    "client = bigquery.Client() "
   ]
  },
  {
   "cell_type": "markdown",
   "id": "a46d1324-221d-4ae6-bfdd-03af6bd5e837",
   "metadata": {},
   "source": [
    "In BigQuery, each dataset is contained in a corresponding project.   \n",
    "- Begin by constructing a reference to the dataset with the `dataset()` method.  \n",
    "- Next us the `get_dataset()` method, along with with the reference just constructed, to fetch the dataset.  "
   ]
  },
  {
   "cell_type": "code",
   "execution_count": null,
   "id": "73360a28-2ff1-49ec-9a20-9d8aead73f58",
   "metadata": {},
   "outputs": [],
   "source": [
    "# Construct a reference to the dataset\n",
    "dataset_ref=client.dataset(\"hacker_news\", project=\"bigquery-public-data\")\n",
    "\n",
    "# API request - fetch the dataset\n",
    "dataset=client.get_dataset(dataset_ref)"
   ]
  },
  {
   "cell_type": "markdown",
   "id": "7cec1da0-6218-44ad-8555-a5ea106d0f29",
   "metadata": {},
   "source": [
    "## Reference  \n",
    "\n",
    "https://www.kaggle.com/dansbecker/getting-started-with-sql-and-bigquery"
   ]
  },
  {
   "cell_type": "markdown",
   "id": "2e8ad09a-159d-49aa-86a5-c22983bf0044",
   "metadata": {},
   "source": [
    "---"
   ]
  }
 ],
 "metadata": {
  "kernelspec": {
   "display_name": "Python 3",
   "language": "python",
   "name": "python3"
  },
  "language_info": {
   "codemirror_mode": {
    "name": "ipython",
    "version": 3
   },
   "file_extension": ".py",
   "mimetype": "text/x-python",
   "name": "python",
   "nbconvert_exporter": "python",
   "pygments_lexer": "ipython3",
   "version": "3.8.10"
  }
 },
 "nbformat": 4,
 "nbformat_minor": 5
}
