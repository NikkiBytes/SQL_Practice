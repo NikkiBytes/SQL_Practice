{
 "cells": [
  {
   "cell_type": "markdown",
   "id": "65e96486-2ebe-405e-88cc-4c1ae50c849a",
   "metadata": {},
   "source": [
    "# SQL Tutorial 1\n"
   ]
  },
  {
   "cell_type": "markdown",
   "id": "e96a9538-55ca-44bc-b96f-068b8e6044b7",
   "metadata": {},
   "source": [
    "## SELECT ... FROM  \n",
    "  \n",
    "The most basic SQL query selects a single column from a single table. To do this,  \n",
    "- specify the column you want after the word **SELECT**, and then  \n",
    "- specify the table after the word **FROM**  \n",
    "Note, when writing an SQL query, the argument passed to **FROM** is *not* in single or double quotation marks, <u>it is in backticks ( ` ). </u>"
   ]
  },
  {
   "cell_type": "code",
   "execution_count": null,
   "id": "a1e391ac-25c9-4b99-b56d-03ab32f35880",
   "metadata": {},
   "outputs": [],
   "source": [
    "query =\"\"\"\n",
    "        SELECT Name  \n",
    "        FROM `bigquery-public-data.pet_records.pets`  \n",
    "        \"\"\""
   ]
  },
  {
   "cell_type": "markdown",
   "id": "cf1e72a1-8c8c-410f-99ec-7d91b5f99c5e",
   "metadata": {},
   "source": [
    "## Example: What are all the U.S. cities in the OpenAQ dataset?\n",
    "Now that you've got the basics down, let's work through an example with a real dataset. We'll use an OpenAQ dataset about air quality.\n",
    "\n",
    "First, we'll set up everything we need to run queries and take a quick peek at what tables are in our database. (Since you learned how to do this in the previous tutorial, we have hidden the code. But if you'd like to take a peek, you need only click on the \"Code\" button below.)\n",
    "The dataset contains only one table, called global_air_quality. We'll fetch the table and take a peek at the first few rows to see what sort of data it contains.  "
   ]
  },
  {
   "cell_type": "markdown",
   "id": "090b0401-eeda-420e-a10a-e9f4d2c530d3",
   "metadata": {},
   "source": [
    "## WHERE ...  \n",
    "The **WHERE** clause is used to return only the rows meeting specific conditions.  \n",
    "  "
   ]
  },
  {
   "cell_type": "code",
   "execution_count": null,
   "id": "9771be4e-3d50-4788-8726-bdf69273a5bc",
   "metadata": {},
   "outputs": [],
   "source": [
    "query =\"\"\"\n",
    "        SELECT Name  \n",
    "        FROM `bigquery-public-data.pet_records.pets`  \n",
    "        WHERE Animal = 'Cat'  \n",
    "        \"\"\""
   ]
  },
  {
   "cell_type": "markdown",
   "id": "7ff21e16-5ad5-4897-b0d7-5a353a119c69",
   "metadata": {},
   "source": [
    "Everything looks good! So, let's put together a query. Say we want to select all the values from the city column that are in rows where the country column is 'US' (for \"United States\")."
   ]
  },
  {
   "cell_type": "code",
   "execution_count": null,
   "id": "57374502-fb86-4a9d-a1b3-1a01512c6538",
   "metadata": {},
   "outputs": [],
   "source": [
    "# Query to select all the items from the \"city\" column where the \"country\" column is 'US'\n",
    "query = \"\"\"\n",
    "        SELECT city\n",
    "        FROM `bigquery-public-data.openaq.global_air_quality`\n",
    "        WHERE country = 'US'\n",
    "        \"\"\""
   ]
  },
  {
   "cell_type": "markdown",
   "id": "5979d408-6bb7-442f-892a-0a619afbdff0",
   "metadata": {},
   "source": [
    "### Submitting the query to the dataset\n",
    "We're ready to use this query to get information from the OpenAQ dataset. As in the previous tutorial, the first step is to create a Client object."
   ]
  },
  {
   "cell_type": "code",
   "execution_count": null,
   "id": "60412afd-a844-4411-9f68-abe1617fe8c0",
   "metadata": {},
   "outputs": [],
   "source": [
    "# Create a \"Client\" object\n",
    "client = bigquery.Client()"
   ]
  },
  {
   "cell_type": "markdown",
   "id": "3fdf835b-c929-45ca-9655-7e2f054fd113",
   "metadata": {},
   "source": [
    "We begin by setting up the query with `query()` method. We run the method with the default parameters, but this method also allows us to specify more complicated settings."
   ]
  },
  {
   "cell_type": "code",
   "execution_count": null,
   "id": "bcb8b15a-a3e3-4c25-aec1-7cc4e74ea15f",
   "metadata": {},
   "outputs": [],
   "source": [
    "# Set up the query\n",
    "query_job = client.query(query)"
   ]
  },
  {
   "cell_type": "markdown",
   "id": "105e8d97-94d4-47f9-a034-625e93f29e30",
   "metadata": {},
   "source": [
    "Next, we run the query and convert the results to a pandas DataFrame.\n",
    "\n"
   ]
  },
  {
   "cell_type": "code",
   "execution_count": null,
   "id": "73a1557a-5df9-4eb5-8136-33e0efdb0474",
   "metadata": {},
   "outputs": [],
   "source": [
    "# API request - run the query, and return a pandas DataFrame\n",
    "us_cities = query_job.to_dataframe()"
   ]
  },
  {
   "cell_type": "markdown",
   "id": "44e12ad9-fcb3-4d95-973c-fc6eb58fe4f9",
   "metadata": {},
   "source": [
    "Now we've got a pandas DataFrame called `us_cities`, which we can use like any other DataFrame."
   ]
  },
  {
   "cell_type": "code",
   "execution_count": null,
   "id": "cce69f0a-00e9-4d3f-9288-9000719dcc94",
   "metadata": {},
   "outputs": [],
   "source": [
    "# What five cities have the most measurements?\n",
    "us_cities.city.value_counts().head()"
   ]
  },
  {
   "cell_type": "markdown",
   "id": "352fe186-0768-4b00-8890-a681eca9f120",
   "metadata": {},
   "source": [
    "### More queries\n",
    "If you want multiple columns, you can select them with a comma between the names:"
   ]
  },
  {
   "cell_type": "code",
   "execution_count": null,
   "id": "61bd126d-dbbb-41b3-9f6f-ba3c3b9d5e04",
   "metadata": {},
   "outputs": [],
   "source": [
    "query = \"\"\"\n",
    "        SELECT city, country\n",
    "        FROM `bigquery-public-data.openaq.global_air_quality`\n",
    "        WHERE country = 'US'\n",
    "        \"\"\""
   ]
  },
  {
   "cell_type": "markdown",
   "id": "11a36344-8722-4686-bd90-f4921fd8bd1e",
   "metadata": {},
   "source": [
    "You can select all columns with a `*` like this:"
   ]
  },
  {
   "cell_type": "code",
   "execution_count": null,
   "id": "b3f58243-85de-4944-84b6-6d5fd8cadbba",
   "metadata": {},
   "outputs": [],
   "source": [
    "query = \"\"\"\n",
    "        SELECT *\n",
    "        FROM `bigquery-public-data.openaq.global_air_quality`\n",
    "        WHERE country = 'US'\n",
    "        \"\"\""
   ]
  },
  {
   "cell_type": "markdown",
   "id": "2d9c7e3a-9f14-44ef-b600-c8264a2b6149",
   "metadata": {},
   "source": [
    "## Q&A: Notes on formatting\n",
    "The formatting of the SQL query might feel unfamiliar. If you have any questions, you can ask in the comments section at the bottom of this page. Here are answers to two common questions:  \n",
    "  \n",
    "**Question: What's up with the triple quotation marks (\"\"\")?**  \n",
    "Answer: These tell Python that everything inside them is a single string, even though we have line breaks in it. The line breaks aren't necessary, but they make it easier to read your query.  \n",
    "  \n",
    "**Question: Do you need to capitalize SELECT and FROM?**  \n",
    "Answer: No, SQL doesn't care about capitalization. However, it's customary to capitalize your SQL commands, and it makes your queries a bit easier to read."
   ]
  },
  {
   "cell_type": "markdown",
   "id": "38b0a6de-114f-4caf-9e01-b9e1a12bf253",
   "metadata": {},
   "source": [
    "## Working with big datasets  \n",
    "To begin,you can estimate the size of any query before running it. Here is an example using the (very large!) Hacker News dataset. To see how much data a query will scan, we create a QueryJobConfig object and set the dry_run parameter to True."
   ]
  },
  {
   "cell_type": "code",
   "execution_count": null,
   "id": "823e6d04-ada3-42c2-b811-e7c9181f2310",
   "metadata": {},
   "outputs": [],
   "source": [
    "# Query to get the score column from every row where the type column has value \"job\"\n",
    "query = \"\"\"\n",
    "        SELECT score, title\n",
    "        FROM `bigquery-public-data.hacker_news.full`\n",
    "        WHERE type = \"job\" \n",
    "        \"\"\"\n",
    "\n",
    "# Create a QueryJobConfig object to estimate size of query without running it\n",
    "dry_run_config = bigquery.QueryJobConfig(dry_run=True)\n",
    "\n",
    "# API request - dry run query to estimate costs\n",
    "dry_run_query_job = client.query(query, job_config=dry_run_config)\n",
    "\n",
    "print(\"This query will process {} bytes.\".format(dry_run_query_job.total_bytes_processed))"
   ]
  },
  {
   "cell_type": "markdown",
   "id": "dba25a56-66d5-4742-9d77-aa13f985ad7b",
   "metadata": {},
   "source": [
    "You can also specify a parameter when running the query to limit how much data you are willing to scan. Here's an example with a low limit."
   ]
  },
  {
   "cell_type": "code",
   "execution_count": null,
   "id": "975c1f76-f3d9-44b0-9cb8-96ddea697ed7",
   "metadata": {},
   "outputs": [],
   "source": [
    "# Only run the query if it's less than 1 MB\n",
    "ONE_MB = 1000*1000\n",
    "safe_config = bigquery.QueryJobConfig(maximum_bytes_billed=ONE_MB)\n",
    "\n",
    "# Set up the query (will only run if it's less than 1 MB)\n",
    "safe_query_job = client.query(query, job_config=safe_config)\n",
    "\n",
    "# API request - try to run the query, and return a pandas DataFrame\n",
    "safe_query_job.to_dataframe()\n",
    "\n",
    "# API request - try to run the query, and return a pandas DataFrame\n",
    "job_post_scores = safe_query_job.to_dataframe()\n",
    "\n",
    "# Print average score for job posts\n",
    "job_post_scores.score.mean()"
   ]
  },
  {
   "cell_type": "markdown",
   "id": "6beb6507-cbef-4cd4-8b59-c72a9cf046b5",
   "metadata": {},
   "source": [
    "### More Examples  "
   ]
  },
  {
   "cell_type": "code",
   "execution_count": null,
   "id": "98181629-bf47-4a4e-94c9-96bf8231a54f",
   "metadata": {},
   "outputs": [],
   "source": [
    "from google.cloud import bigquery\n",
    "\n",
    "# Create a \"Client\" object\n",
    "client = bigquery.Client()\n",
    "\n",
    "# Construct a reference to the \"openaq\" dataset\n",
    "dataset_ref = client.dataset(\"openaq\", project=\"bigquery-public-data\")\n",
    "\n",
    "# API request - fetch the dataset\n",
    "dataset = client.get_dataset(dataset_ref)\n",
    "\n",
    "# Construct a reference to the \"global_air_quality\" table\n",
    "table_ref = dataset_ref.table(\"global_air_quality\")\n",
    "\n",
    "# API request - fetch the table\n",
    "table = client.get_table(table_ref)\n",
    "\n",
    "# Preview the first five lines of the \"global_air_quality\" table\n",
    "client.list_rows(table, max_results=5).to_dataframe()"
   ]
  },
  {
   "cell_type": "code",
   "execution_count": null,
   "id": "eb97cb27-7006-457d-a3a0-7dd74479d901",
   "metadata": {},
   "outputs": [],
   "source": [
    "# Query to select countries with units of \"ppm\"\n",
    "first_query = \"\"\"\n",
    "              SELECT country  \n",
    "              FROM `bigquery-public-data.openaq.global_air_quality`  \n",
    "              WHERE unit = 'ppm'\n",
    "              \"\"\" # Your code goes here\n",
    "\n",
    "# Set up the query (cancel the query if it would use too much of \n",
    "# your quota, with the limit set to 10 GB)\n",
    "safe_config = bigquery.QueryJobConfig(maximum_bytes_billed=10**10)\n",
    "first_query_job = client.query(first_query, job_config=safe_config)\n",
    "\n",
    "# API request - run the query, and return a pandas DataFrame\n",
    "first_results = first_query_job.to_dataframe()\n",
    "\n",
    "# View top few rows of results\n",
    "print(first_results.head())\n"
   ]
  },
  {
   "cell_type": "code",
   "execution_count": null,
   "id": "320400d4-6ef1-4765-94dd-1ef51d889d27",
   "metadata": {},
   "outputs": [],
   "source": [
    "# Query to select all columns where pollution levels are exactly 0\n",
    "zero_pollution_query = \"\"\"\n",
    "                       SELECT *  \n",
    "                       FROM `bigquery-public-data.openaq.global_air_quality`  \n",
    "                       WHERE value = 0\n",
    "                       \"\"\" # Your code goes here\n",
    "\n",
    "# Set up the query\n",
    "safe_config = bigquery.QueryJobConfig(maximum_bytes_billed=10**10)\n",
    "query_job = client.query(zero_pollution_query, job_config=safe_config)\n",
    "\n",
    "# API request - run the query and return a pandas DataFrame\n",
    "zero_pollution_results = query_job.to_dataframe()# Your code goes here\n",
    "\n",
    "print(zero_pollution_results.head())\n"
   ]
  },
  {
   "cell_type": "markdown",
   "id": "961133dd-22e2-4cdd-978f-913acbbd35e6",
   "metadata": {},
   "source": [
    "## Reference    \n",
    "https://www.kaggle.com/dansbecker/select-from-where  \n",
    "  \n",
    "---"
   ]
  }
 ],
 "metadata": {
  "kernelspec": {
   "display_name": "Python 3",
   "language": "python",
   "name": "python3"
  },
  "language_info": {
   "codemirror_mode": {
    "name": "ipython",
    "version": 3
   },
   "file_extension": ".py",
   "mimetype": "text/x-python",
   "name": "python",
   "nbconvert_exporter": "python",
   "pygments_lexer": "ipython3",
   "version": "3.8.10"
  }
 },
 "nbformat": 4,
 "nbformat_minor": 5
}
