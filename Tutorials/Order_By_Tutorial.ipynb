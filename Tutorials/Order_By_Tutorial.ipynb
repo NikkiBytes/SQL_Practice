{
 "cells": [
  {
   "cell_type": "markdown",
   "id": "d268b0f7-e524-4d31-a543-a81c3b55f3a4",
   "metadata": {},
   "source": [
    "# ORDER BY Tutorial\n",
    "\n",
    "## ORDER BY  \n",
    "**ORDER BY** is usually the last clause in your query, and it sorts the results returned by the rest of the query.  "
   ]
  },
  {
   "cell_type": "code",
   "execution_count": null,
   "id": "760c4bc5-7f67-448f-9af4-bc83c6f2a220",
   "metadata": {},
   "outputs": [],
   "source": [
    "query = \"\"\"\n",
    "        SELECT ID, Name, Animal\n",
    "        FROM FROM `bigquery-public-data.pet_records.pets`\n",
    "        ORDER BY ID  \n",
    "        \"\"\""
   ]
  },
  {
   "cell_type": "markdown",
   "id": "0073230d-b802-4b42-8003-fed3b51eeef1",
   "metadata": {},
   "source": [
    "The **ORDER BY** clause also works for columns containing text, where the results show up in alphabetical order. "
   ]
  },
  {
   "cell_type": "code",
   "execution_count": null,
   "id": "7186eab0-1386-4850-b8e6-f05f43ef2cd9",
   "metadata": {},
   "outputs": [],
   "source": [
    "query = \"\"\"\n",
    "        SELECT ID, Name, Animal\n",
    "        FROM FROM `bigquery-public-data.pet_records.pets`\n",
    "        ORDER BY Animal  \n",
    "        \"\"\""
   ]
  },
  {
   "cell_type": "markdown",
   "id": "d235a94b-8d3f-4768-933f-f94c68e1b670",
   "metadata": {},
   "source": [
    "You can reverse the order using the **DESC** argument. "
   ]
  },
  {
   "cell_type": "code",
   "execution_count": null,
   "id": "cfd60d67-5310-4f9a-8526-005be964f65c",
   "metadata": {},
   "outputs": [],
   "source": [
    "query = \"\"\"\n",
    "        SELECT ID, Name, Animal\n",
    "        FROM FROM `bigquery-public-data.pet_records.pets`\n",
    "        ORDER BY Animal DESC\n",
    "        \"\"\""
   ]
  },
  {
   "cell_type": "markdown",
   "id": "e915fc83-718c-4055-9558-f9810ca62e66",
   "metadata": {},
   "source": [
    "## Dates  \n",
    "There are two ways that dates can be stored in BigQuery: as a **DATE** or as **DATETIME**.  \n",
    "  \n",
    "The **DATE** format has the year first, then the month, and then the day. It looks like this:  \n",
    "`YYYY-[M]M-[D]D`  \n",
    "\n",
    "* YYYY : Four-digit year  \n",
    "* [M]M : One or two digit month  \n",
    "* [D]D : One or two digit day  \n",
    "\n",
    "The **DATETIME** format is like the date format....but with the time added at the end.  "
   ]
  },
  {
   "cell_type": "markdown",
   "id": "5f8a4bab-0629-4c4e-af0a-c0a6937708b6",
   "metadata": {},
   "source": [
    "## EXTRACT  \n",
    "Often you'll want to look at part of a date, like the year or the day. You can do this with **EXTRACT**."
   ]
  },
  {
   "cell_type": "markdown",
   "id": "2bdd697a-bc3d-4710-a38f-bbcb39fbb59a",
   "metadata": {},
   "source": [
    "The query below returns two columns, where column `Day` contains the day corresponding to each entry the `Date` column from the `pets_with_date` table: "
   ]
  },
  {
   "cell_type": "code",
   "execution_count": null,
   "id": "0941072f-5407-43ae-909b-5047916ce6f8",
   "metadata": {},
   "outputs": [],
   "source": [
    "query=\"\"\"\n",
    "      SELECT Name, EXTRACT(DAY from Date) AS Day\n",
    "      FROM `bigquery-public-data.pet_records.pets_with_date`\n",
    "      \"\"\""
   ]
  },
  {
   "cell_type": "markdown",
   "id": "b6f1e397-6093-4c83-bfa9-a1021b4b6cb6",
   "metadata": {},
   "source": [
    "SQL is very smart about dates, and we can ask for information beyond just extracting part of the cell. For example, this query returns one column with just the week in the year (between 1 and 53) for each date in the `Date` column.  \n",
    "  \n",
    "  "
   ]
  },
  {
   "cell_type": "code",
   "execution_count": null,
   "id": "3ea4e573-b04a-498b-84e3-416f8ff115b1",
   "metadata": {},
   "outputs": [],
   "source": [
    "query=\"\"\"\n",
    "      SELECT Name, EXTRACT(WEEK from Date) AS Week\n",
    "      FROM `bigquery-public-data.pet_records.pets_with_date`\n",
    "      \"\"\""
   ]
  },
  {
   "cell_type": "markdown",
   "id": "849ca4ac-f9df-4392-b6fd-b242b124c106",
   "metadata": {},
   "source": [
    "## Example: Which day of the week has the most fatal motor accidents?  \n",
    "Let's use the US Traffic Fatality Records database, which contains information on traffic accidents in the US where at least one person died.  \n",
    "We'll investigate the accident_2015 table.   \n",
    "  \n",
    "    \n",
    "We'll use the table to determine how the number of accidents varies with the day of the week:  \n",
    "Since:  \n",
    "* the `consecutive_number` column contains a unique `ID` for each accident  \n",
    "* the `timestamp_of_crash` column contains the date of the accident in DATETIME format,\n",
    "  \n",
    "we can:\n",
    "\n",
    "- **EXTRACT** the day of the week (as `day_of_week` in the query below) from the `timestamp_of_crash` column, and\n",
    "- **GROUP BY** the day of the week, before we **COUNT** the `consecutive_number` column to determine the number of accidents for each day of the week.  \n",
    "\n",
    "Then we sort the table with an **ORDER BY** clause, so the days with the most accidents are returned first.\n"
   ]
  },
  {
   "cell_type": "code",
   "execution_count": null,
   "id": "36fcf11d-dc52-43dc-942d-363aa7884b94",
   "metadata": {},
   "outputs": [],
   "source": [
    "# Query to find out the number of accidents for each day of the week\n",
    "query = \"\"\"\n",
    "        SELECT COUNT(consecutive_number) AS num_accidents, \n",
    "               EXTRACT(DAYOFWEEK FROM timestamp_of_crash) AS day_of_week\n",
    "        FROM `bigquery-public-data.nhtsa_traffic_fatalities.accident_2015`\n",
    "        GROUP BY day_of_week\n",
    "        ORDER BY num_accidents DESC\n",
    "        \"\"\""
   ]
  },
  {
   "cell_type": "markdown",
   "id": "171cf602-b664-4b55-bd19-4150e5360c80",
   "metadata": {},
   "source": [
    "As usual, we run it as follows:  "
   ]
  },
  {
   "cell_type": "code",
   "execution_count": null,
   "id": "539e029f-fc99-4f10-b8f3-0328dd63d09a",
   "metadata": {},
   "outputs": [],
   "source": [
    "# Set up the query (cancel the query if it would use too much of \n",
    "# your quota, with the limit set to 1 GB)\n",
    "safe_config = bigquery.QueryJobConfig(maximum_bytes_billed=10**9)\n",
    "query_job = client.query(query, job_config=safe_config)\n",
    "\n",
    "# API request - run the query, and convert the results to a pandas DataFrame\n",
    "accidents_by_day = query_job.to_dataframe()\n",
    "\n",
    "# Print the DataFrame\n",
    "accidents_by_day"
   ]
  },
  {
   "cell_type": "markdown",
   "id": "158d957b-f8bd-4980-a730-533159959794",
   "metadata": {},
   "source": [
    "## Code Practice  "
   ]
  },
  {
   "cell_type": "markdown",
   "id": "0a20dce9-983e-4bee-9c5f-5598445fe25e",
   "metadata": {},
   "source": [
    "The value in the indicator_code column describes what type of data is shown in a given row.\n",
    "\n",
    "One interesting indicator code is `SE.XPD.TOTL.GD.ZS`, which corresponds to \"Government expenditure on education as % of GDP (%)\".\n",
    "\n",
    "### 1) Government expenditure on education  \n",
    "Which countries spend the largest fraction of GDP on education?\n",
    "\n",
    "To answer this question, consider only the rows in the dataset corresponding to indicator code SE.XPD.TOTL.GD.ZS, and write a query that returns the average value in the value column for each country in the dataset between the years 2010-2017 (including 2010 and 2017 in the average).\n",
    "\n",
    "Requirements:\n",
    "\n",
    "* Your results should have the country name rather than the country code. You will have one row for each country.\n",
    "* The aggregate function for average is AVG(). Use the name avg_ed_spending_pct for the column created by this aggregation.\n",
    "* Order the results so the countries that spend the largest fraction of GDP on education show up first.                           "
   ]
  },
  {
   "cell_type": "code",
   "execution_count": null,
   "id": "9075b865-f894-4c2b-8d2e-914e81279898",
   "metadata": {},
   "outputs": [],
   "source": [
    "# Your code goes here\n",
    "country_spend_pct_query = \"\"\"\n",
    "                          SELECT country_name, AVG(value) AS avg_ed_spending_pct\n",
    "                          FROM `bigquery-public-data.world_bank_intl_education.international_education`\n",
    "                          WHERE indicator_code = 'SE.XPD.TOTL.GD.ZS' AND year <= 2017 AND year >= 2010\n",
    "                          GROUP BY country_name\n",
    "                          ORDER BY avg_ed_spending_pct DESC\n",
    "                          \"\"\"\n",
    "\n",
    "# Set up the query (cancel the query if it would use too much of \n",
    "# your quota, with the limit set to 1 GB)\n",
    "safe_config = bigquery.QueryJobConfig(maximum_bytes_billed=10**10)\n",
    "country_spend_pct_query_job = client.query(country_spend_pct_query, job_config=safe_config)\n",
    "\n",
    "# API request - run the query, and return a pandas DataFrame\n",
    "country_spending_results = country_spend_pct_query_job.to_dataframe()\n",
    "\n",
    "# View top few rows of results\n",
    "print(country_spending_results.head())\n",
    "\n",
    "# Check your answer\n",
    "##q_1.check()"
   ]
  },
  {
   "cell_type": "markdown",
   "id": "305c6b5c-fd10-4521-a201-95b3d8aa26c3",
   "metadata": {},
   "source": [
    "## 2) Identify interesting codes to explore   \n",
    "The last question started by telling you to focus on rows with the code `SE.XPD.TOTL.GD.ZS`. But how would you find more interesting indicator codes to explore?  \n",
    "  \n",
    "There are 1000s of codes in the dataset, so it would be time consuming to review them all. But many codes are available for only a few countries. When browsing the options for different codes, you might restrict yourself to codes that are reported by many countries.  \n",
    "  \n",
    "Write a query below that selects the indicator code and indicator name for all codes with at least 175 rows in the year 2016.  \n",
    "  \n",
    "Requirements:  \n",
    "  \n",
    "* You should have one row for each indicator code.  \n",
    "* The columns in your results should be called `indicator_code`, `indicator_name`, and `num_rows`.  \n",
    "* Only select codes with 175 or more rows in the raw database (exactly 175 rows would be included).  \n",
    "* To get both the `indicator_code` and `indicator_name` in your resulting DataFrame, you need to include both in your **SELECT** statement (in addition to a **COUNT()** aggregation). This requires you to include both in your **GROUP BY** clause.  \n",
    "* Order from results most frequent to least frequent.  "
   ]
  },
  {
   "cell_type": "code",
   "execution_count": null,
   "id": "9aa1b80b-1eef-48f5-a79e-c934ef71cde0",
   "metadata": {},
   "outputs": [],
   "source": [
    "# Your code goes here\n",
    "code_count_query = \"\"\"\n",
    "                   SELECT indicator_code, indicator_name, COUNT(1) AS num_rows\n",
    "                   FROM `bigquery-public-data.world_bank_intl_education.international_education`\n",
    "                   WHERE year = 2016\n",
    "                   GROUP BY indicator_code, indicator_name\n",
    "                   HAVING COUNT(1) >= 175\n",
    "                   ORDER BY COUNT(1) DESC\n",
    "                   \"\"\"\n",
    "\n",
    "# Set up the query\n",
    "safe_config = bigquery.QueryJobConfig(maximum_bytes_billed=10**10)\n",
    "code_count_query_job = client.query(code_count_query, job_config=safe_config)\n",
    "\n",
    "# API request - run the query, and return a pandas DataFrame\n",
    "code_count_results = code_count_query_job.to_dataframe()\n",
    "\n",
    "# View top few rows of results\n",
    "print(code_count_results.head())\n",
    "\n",
    "# Check your answer\n",
    "q_2.check()"
   ]
  },
  {
   "cell_type": "markdown",
   "id": "43779a8c-1173-49f4-9d24-fcd2b7af54a2",
   "metadata": {},
   "source": [
    "## References   \n",
    "\n",
    "https://www.kaggle.com/dansbecker/order-by  \n",
    "https://www.kaggle.com/nichollette/exercise-order-by/edit  \n",
    "\n",
    "\n",
    "--- "
   ]
  }
 ],
 "metadata": {
  "kernelspec": {
   "display_name": "Python 3",
   "language": "python",
   "name": "python3"
  },
  "language_info": {
   "codemirror_mode": {
    "name": "ipython",
    "version": 3
   },
   "file_extension": ".py",
   "mimetype": "text/x-python",
   "name": "python",
   "nbconvert_exporter": "python",
   "pygments_lexer": "ipython3",
   "version": "3.8.10"
  }
 },
 "nbformat": 4,
 "nbformat_minor": 5
}
